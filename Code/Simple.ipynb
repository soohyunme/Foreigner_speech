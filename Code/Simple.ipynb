{
  "nbformat": 4,
  "nbformat_minor": 0,
  "metadata": {
    "colab": {
      "name": "Simple_S.ipynb",
      "provenance": [],
      "collapsed_sections": [],
      "mount_file_id": "1Fv9-PXwKgGTJ0ij9Ye79iiFSbip0LrA_",
      "authorship_tag": "ABX9TyNU49yNUBrRLOlDVKPiJfSN",
      "include_colab_link": true
    },
    "kernelspec": {
      "name": "python3",
      "display_name": "Python 3"
    },
    "language_info": {
      "name": "python"
    }
  },
  "cells": [
    {
      "cell_type": "markdown",
      "metadata": {
        "id": "view-in-github",
        "colab_type": "text"
      },
      "source": [
        "<a href=\"https://colab.research.google.com/github/soohyunme/Foreigner_speech/blob/main/Code/Simple.ipynb\" target=\"_parent\"><img src=\"https://colab.research.google.com/assets/colab-badge.svg\" alt=\"Open In Colab\"/></a>"
      ]
    },
    {
      "cell_type": "markdown",
      "metadata": {
        "id": "leLYF6N_2MQV"
      },
      "source": [
        "# Reference\n",
        "\n"
      ]
    },
    {
      "cell_type": "markdown",
      "metadata": {
        "id": "IKUxqVku2cLM"
      },
      "source": [
        "https://blog.naver.com/sexyit_2019/221603292906\n",
        "\n",
        "https://youdaeng-com.tistory.com/5\n",
        "\n",
        "https://dacon.io/competitions/official/235738/codeshare/2902?page=1&dtype=recent"
      ]
    },
    {
      "cell_type": "markdown",
      "metadata": {
        "id": "MNuwbt4KDYEt"
      },
      "source": [
        "# 모듈 설치 및 로드"
      ]
    },
    {
      "cell_type": "code",
      "metadata": {
        "id": "AeSjAhuVnZT6"
      },
      "source": [
        "%matplotlib inline\n",
        "import matplotlib.pyplot as plt\n",
        "import pandas as pd\n",
        "import librosa.display\n",
        "from tqdm import tqdm\n",
        "from glob import glob\n",
        "import os\n",
        "from scipy.io import wavfile\n",
        "from collections import defaultdict, Counter\n",
        "from scipy import signal\n",
        "import numpy as np\n",
        "import librosa\n",
        "import random as rn\n",
        "from tensorflow.keras.layers import Dense\n",
        "from tensorflow.keras import Input, Model\n",
        "import tensorflow.keras\n",
        "import tensorflow as tf\n",
        "from tensorflow.keras.utils import to_categorical\n",
        "from tensorflow.keras.layers import Dense, TimeDistributed,\\\n",
        " Dropout, Bidirectional, GRU, BatchNormalization, Activation,\\\n",
        " LeakyReLU, LSTM, Flatten, RepeatVector, Permute, Multiply, Conv2D, MaxPooling2D"
      ],
      "execution_count": 61,
      "outputs": []
    },
    {
      "cell_type": "code",
      "metadata": {
        "colab": {
          "base_uri": "https://localhost:8080/"
        },
        "id": "TMI5_SpoYWV0",
        "outputId": "ac1e8980-1088-44f3-de34-63721355fed9"
      },
      "source": [
        "import tensorflow as tf\n",
        "import os\n",
        "\n",
        "try:\n",
        "  resolver = tf.distribute.cluster_resolver.TPUClusterResolver(tpu='grpc://' + os.environ['COLAB_TPU_ADDR'])\n",
        "\n",
        "  tf.config.experimental_connect_to_cluster(resolver)\n",
        "  tf.tpu.experimental.initialize_tpu_system(resolver)\n",
        "  strategy = tf.distribute.TPUStrategy(resolver)\n",
        "except:\n",
        "  print('TPU device not found')"
      ],
      "execution_count": 62,
      "outputs": [
        {
          "output_type": "stream",
          "name": "stdout",
          "text": [
            "TPU device not found\n"
          ]
        }
      ]
    },
    {
      "cell_type": "code",
      "metadata": {
        "colab": {
          "base_uri": "https://localhost:8080/"
        },
        "id": "NTi9cpDOeuHj",
        "outputId": "2c3fb14a-d2f9-4190-837a-222c84266b6c"
      },
      "source": [
        "%tensorflow_version 2.x\n",
        "import tensorflow as tf\n",
        "device_name = tf.test.gpu_device_name()\n",
        "if device_name != '/device:GPU:0':\n",
        "  print('GPU device not found')\n",
        "else:\n",
        "  print('Found GPU at: {}'.format(device_name))"
      ],
      "execution_count": 63,
      "outputs": [
        {
          "output_type": "stream",
          "name": "stdout",
          "text": [
            "GPU device not found\n"
          ]
        }
      ]
    },
    {
      "cell_type": "markdown",
      "metadata": {
        "id": "X2SwW1qzfS9i"
      },
      "source": [
        "with tf.device('/device:GPU:0'):  \n",
        "이후 모델 넣기  \n",
        "https://m.blog.naver.com/demian7607/222043724449\n"
      ]
    },
    {
      "cell_type": "markdown",
      "metadata": {
        "id": "nAjNysU_0yE2"
      },
      "source": [
        "# 경로 설정"
      ]
    },
    {
      "cell_type": "code",
      "metadata": {
        "colab": {
          "base_uri": "https://localhost:8080/"
        },
        "id": "JG-C6kAPzaf9",
        "outputId": "8e28627a-b036-48c8-82dd-c69e98c63c14"
      },
      "source": [
        "cd /content/drive/MyDrive/foreigner_speech/dataset"
      ],
      "execution_count": 64,
      "outputs": [
        {
          "output_type": "stream",
          "name": "stdout",
          "text": [
            "/content/drive/MyDrive/foreigner_speech/dataset\n"
          ]
        }
      ]
    },
    {
      "cell_type": "code",
      "metadata": {
        "id": "v17H-eD4Smcx"
      },
      "source": [
        "DATA_DIR = './train/wav/'"
      ],
      "execution_count": 65,
      "outputs": []
    },
    {
      "cell_type": "markdown",
      "metadata": {
        "id": "KQ3JILIr4fGH"
      },
      "source": [
        "# 데이터 로드"
      ]
    },
    {
      "cell_type": "code",
      "metadata": {
        "id": "N2H8e8EUzl4V"
      },
      "source": [
        "train_paths = glob(\"./train/wav/*.wav\")\n",
        "test_paths = glob(\"./test/*.wav\")\n",
        "label_df = pd.read_csv('./final_text.csv').iloc[:,[0,-1]]"
      ],
      "execution_count": 66,
      "outputs": []
    },
    {
      "cell_type": "code",
      "metadata": {
        "colab": {
          "base_uri": "https://localhost:8080/"
        },
        "id": "VXp9F9ntynZU",
        "outputId": "ae9a6993-211b-4855-c221-9eebfecda2cd"
      },
      "source": [
        "# 데이터 형태 파악\n",
        "# sr : 오디오의 초당 샘플링 수, wav : 시계열 데이터\n",
        "wav, sr = librosa.load(train_paths[0])\n",
        "print('sr:', sr)\n",
        "print('wav shape:', wav.shape)\n",
        "print('length:', wav.shape[0]/float(sr), 'secs')"
      ],
      "execution_count": 67,
      "outputs": [
        {
          "output_type": "stream",
          "name": "stdout",
          "text": [
            "sr: 22050\n",
            "wav shape: (314433,)\n",
            "length: 14.26 secs\n"
          ]
        }
      ]
    },
    {
      "cell_type": "markdown",
      "metadata": {
        "id": "7gQEZSIT4g2G"
      },
      "source": [
        "# 함수 정의"
      ]
    },
    {
      "cell_type": "code",
      "metadata": {
        "id": "NOA33t0PkTkj"
      },
      "source": [
        "def load_data(paths):\n",
        "    result = []\n",
        "    for path in tqdm(paths):\n",
        "        # sr = n이 의미하는 것은 1초당 n개의 데이터를 샘플링 한다는 것입니다.\n",
        "        data, sr = librosa.load(path, sr = 16000) # 사람 목소리는 대부분 16000Hz 안에 포함됨\n",
        "        result.append(data)\n",
        "    result = np.array(result)\n",
        "    # 메모리가 부족할 때는 데이터 타입을 변경해 주세요 ex) np.array(data, dtype = np.float32)\n",
        "\n",
        "    return result"
      ],
      "execution_count": 68,
      "outputs": []
    },
    {
      "cell_type": "code",
      "metadata": {
        "id": "yjpxFnO0kUsL"
      },
      "source": [
        "def get_mini(data):\n",
        "\n",
        "    mini = 9999999\n",
        "    for i in data:\n",
        "        if len(i) < mini:\n",
        "            mini = len(i)\n",
        "\n",
        "    return mini\n",
        "\n",
        "#음성들의 길이를 맞춰줍니다."
      ],
      "execution_count": 69,
      "outputs": []
    },
    {
      "cell_type": "code",
      "metadata": {
        "id": "PqityARnkX30"
      },
      "source": [
        "def set_length(data, d_mini):\n",
        "\n",
        "    result = []\n",
        "    for value in tqdm(data):\n",
        "        value = value[:d_mini]\n",
        "        if len(value)<d_mini:\n",
        "            value = np.append(value, [0]*(d_mini-len(value)))\n",
        "        result.append(value)\n",
        "    result = np.array(result)\n",
        "\n",
        "    return result"
      ],
      "execution_count": 70,
      "outputs": []
    },
    {
      "cell_type": "code",
      "metadata": {
        "id": "ECkICeuxkX1s"
      },
      "source": [
        "def get_feature(data, sr = 16000, n_mfcc = 100, n_fft = 2048, win_length = 200, hop_length = 160):\n",
        "    mfcc = []\n",
        "    for i in tqdm(data):\n",
        "        # n_mfcc 는 return 될 mfcc의 개수 default = 20\n",
        "        # n_fft 는 frame의 length를 결정하는 파라미터, window size가 자동으로 같은 값으로 설정\n",
        "        # window size의 크기로 잘린 음성이 n_fft보다 작은 경우 0으로 padding을 붙여주는 \n",
        "        # 작업을 하기 때문에 n_fft는 window size보다 크거나 같아야 함\n",
        "        # win_length 는 음성을 작은 조각으로 자를때 작은 조각의 크기입니다.\n",
        "        # hop_length 는 음성을 작은 조각으로 자를때 자르는 간격을 의미합니다.\n",
        "        mfcc_ = librosa.feature.mfcc(i, sr=sr, n_mfcc = n_mfcc, n_fft = n_fft,win_length = win_length, hop_length = hop_length)\n",
        "        mfcc.append(mfcc_)\n",
        "    mfcc = np.array(mfcc)\n",
        "    \n",
        "#     Standardization\n",
        "#     mfcc_mean = mfcc.mean()\n",
        "#     mfcc_std = mfcc.std()\n",
        "#     mfcc = (mfcc - mfcc_mean) / mfcc_std\n",
        "\n",
        "    return mfcc"
      ],
      "execution_count": 71,
      "outputs": []
    },
    {
      "cell_type": "markdown",
      "metadata": {
        "id": "IlgMJjZJ4rLI"
      },
      "source": [
        "# 전처리"
      ]
    },
    {
      "cell_type": "markdown",
      "metadata": {
        "id": "zOClXNAT4tm2"
      },
      "source": [
        "## Numpy 변환"
      ]
    },
    {
      "cell_type": "code",
      "metadata": {
        "id": "_HhGuCoCkkxj"
      },
      "source": [
        "# # npy 파일로 저장\n",
        "# try :\n",
        "#   os.mkdir('./npy_data')\n",
        "# except:\n",
        "#   print('Directory  exists')\n",
        "# train_data = load_data(train_paths)\n",
        "# np.save('./npy_data/train.npy',train_data)\n",
        "\n",
        "# test_data = load_data(test_paths)\n",
        "# np.save('./npy_data/test.npy',test_data)"
      ],
      "execution_count": 72,
      "outputs": []
    },
    {
      "cell_type": "code",
      "metadata": {
        "id": "0seM8doVrD9O"
      },
      "source": [
        "# npy 불러오기\n",
        "train_x = np.load('./npy_data/train.npy',allow_pickle=True)\n",
        "test_x = np.load('./npy_data/test.npy',allow_pickle=True)"
      ],
      "execution_count": 73,
      "outputs": []
    },
    {
      "cell_type": "markdown",
      "metadata": {
        "id": "xH9BqrCo4wUO"
      },
      "source": [
        "## MFCC"
      ]
    },
    {
      "cell_type": "code",
      "metadata": {
        "id": "OKUasXbRl1gJ"
      },
      "source": [
        "# 음성의 길이 중 가장 작은 길이를 구합니다.\n",
        "\n",
        "train_mini = get_mini(train_x)\n",
        "test_mini = get_mini(test_x)\n",
        "\n",
        "mini = np.min([train_mini, test_mini])"
      ],
      "execution_count": 74,
      "outputs": []
    },
    {
      "cell_type": "code",
      "metadata": {
        "colab": {
          "base_uri": "https://localhost:8080/"
        },
        "id": "mmmBP9prwpNi",
        "outputId": "6aab8473-2f19-4842-8271-5a2f5c9c1a72"
      },
      "source": [
        "# data의 길이를 가장 작은 길이에 맞춰 잘라줍니다.\n",
        "\n",
        "split_train_x = set_length(train_x, mini)\n",
        "split_test_x = set_length(test_x, mini)\n"
      ],
      "execution_count": 75,
      "outputs": [
        {
          "output_type": "stream",
          "name": "stderr",
          "text": [
            "100%|██████████| 2580/2580 [00:00<00:00, 433320.16it/s]\n",
            "100%|██████████| 10/10 [00:00<00:00, 13560.63it/s]\n"
          ]
        }
      ]
    },
    {
      "cell_type": "code",
      "metadata": {
        "colab": {
          "base_uri": "https://localhost:8080/"
        },
        "id": "3rkNvVLIl3NA",
        "outputId": "2967e987-948e-4e55-8efe-e9c6b983dd84"
      },
      "source": [
        "# librosa를 이용해 mfcc feature를 추출합니다.\n",
        "train_feature_x = get_feature(data = split_train_x)\n",
        "test_feature_x = get_feature(data = split_test_x)\n"
      ],
      "execution_count": 76,
      "outputs": [
        {
          "output_type": "stream",
          "name": "stderr",
          "text": [
            "100%|██████████| 2580/2580 [02:22<00:00, 18.13it/s]\n",
            "100%|██████████| 10/10 [00:00<00:00, 18.29it/s]\n"
          ]
        }
      ]
    },
    {
      "cell_type": "code",
      "metadata": {
        "colab": {
          "base_uri": "https://localhost:8080/",
          "height": 314
        },
        "id": "Vb5_EgZzp9P5",
        "outputId": "4a80c324-381e-4b17-9e29-3635ccb5c91c"
      },
      "source": [
        "# MFCC display\n",
        "fig, ax = plt.subplots()\n",
        "img = librosa.display.specshow(train_feature_x[0], sr=16000, x_axis='time', ax=ax)\n",
        "fig.colorbar(img, ax=ax)\n",
        "ax.set(title='MFCC')"
      ],
      "execution_count": 77,
      "outputs": [
        {
          "output_type": "execute_result",
          "data": {
            "text/plain": [
              "[Text(0.5, 1.0, 'MFCC')]"
            ]
          },
          "metadata": {},
          "execution_count": 77
        },
        {
          "output_type": "display_data",
          "data": {
            "image/png": "[encoded data removed]",
            "text/plain": [
              "<Figure size 432x288 with 2 Axes>"
            ]
          },
          "metadata": {
            "needs_background": "light"
          }
        }
      ]
    },
    {
      "cell_type": "markdown",
      "metadata": {
        "id": "46KzG2g6409m"
      },
      "source": [
        "## train test split"
      ]
    },
    {
      "cell_type": "code",
      "metadata": {
        "id": "M8hDW7wYi9dh"
      },
      "source": [
        "# 임의로 train test 분리\n",
        "# Train : CN11RC001 ~ CN11RC024\n",
        "# Test : CN11RC025\n",
        "\n",
        "X_train = train_feature_x[:2454]\n",
        "X_test = train_feature_x[2454:2580]\n",
        "\n",
        "y_train =label_df.iloc[:2454][['ReadingTarget']]\n",
        "y_test =label_df.iloc[2454:2580][['ReadingTarget']]"
      ],
      "execution_count": 78,
      "outputs": []
    },
    {
      "cell_type": "code",
      "metadata": {
        "colab": {
          "base_uri": "https://localhost:8080/"
        },
        "id": "cwMUYsJ8waFD",
        "outputId": "5c34b6fc-0e7b-48df-a37d-65eee2a8d646"
      },
      "source": [
        "# Train, Test shape 확인\n",
        "X_train.shape, X_test.shape"
      ],
      "execution_count": 79,
      "outputs": [
        {
          "output_type": "execute_result",
          "data": {
            "text/plain": [
              "((2454, 100, 744), (126, 100, 744))"
            ]
          },
          "metadata": {},
          "execution_count": 79
        }
      ]
    },
    {
      "cell_type": "code",
      "metadata": {
        "colab": {
          "base_uri": "https://localhost:8080/"
        },
        "id": "KhiNHRgd0uQt",
        "outputId": "10834331-41a4-49d9-da34-4032f5532d12"
      },
      "source": [
        "X_train_ex = np.expand_dims(X_train,-1)\n",
        "X_test_ex = np.expand_dims(X_test,-1)\n",
        "X_train_ex.shape"
      ],
      "execution_count": 80,
      "outputs": [
        {
          "output_type": "execute_result",
          "data": {
            "text/plain": [
              "(2454, 100, 744, 1)"
            ]
          },
          "metadata": {},
          "execution_count": 80
        }
      ]
    },
    {
      "cell_type": "markdown",
      "metadata": {
        "id": "qBIsy3XZ4ZR_"
      },
      "source": [
        "# Modeling"
      ]
    },
    {
      "cell_type": "code",
      "metadata": {
        "colab": {
          "base_uri": "https://localhost:8080/"
        },
        "id": "kyBmSN_G1PAg",
        "outputId": "6a52ddfa-2ef5-498d-a65c-8433e01f0019"
      },
      "source": [
        "model = tf.keras.models.Sequential()\n",
        "model.add(Input(shape=X_train_ex[0].shape))\n",
        "\n",
        "model.add(Conv2D(64, kernel_size=(4,4), activation='relu'))\n",
        "model.add(MaxPooling2D(pool_size=(4,4)))\n",
        "\n",
        "#model.add(Conv2D(128, kernel_size=(2,2), activation='relu'))\n",
        "#model.add(MaxPooling2D(pool_size=(2,2)))\n",
        "\n",
        "model.add(Flatten())\n",
        "model.add(Dense(32,activation='relu'))\n",
        "model.add(Dense(10,activation='softmax'))\n",
        "\n",
        "model.summary()"
      ],
      "execution_count": 81,
      "outputs": [
        {
          "output_type": "stream",
          "name": "stdout",
          "text": [
            "Model: \"sequential_6\"\n",
            "_________________________________________________________________\n",
            " Layer (type)                Output Shape              Param #   \n",
            "=================================================================\n",
            " conv2d_8 (Conv2D)           (None, 97, 741, 64)       1088      \n",
            "                                                                 \n",
            " max_pooling2d_8 (MaxPooling  (None, 24, 185, 64)      0         \n",
            " 2D)                                                             \n",
            "                                                                 \n",
            " flatten_8 (Flatten)         (None, 284160)            0         \n",
            "                                                                 \n",
            " dense_14 (Dense)            (None, 32)                9093152   \n",
            "                                                                 \n",
            " dense_15 (Dense)            (None, 10)                330       \n",
            "                                                                 \n",
            "=================================================================\n",
            "Total params: 9,094,570\n",
            "Trainable params: 9,094,570\n",
            "Non-trainable params: 0\n",
            "_________________________________________________________________\n"
          ]
        }
      ]
    },
    {
      "cell_type": "code",
      "metadata": {
        "id": "OHPHxozP_Vii"
      },
      "source": [
        ""
      ],
      "execution_count": 81,
      "outputs": []
    }
  ]
}